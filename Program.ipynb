{
  "cells": [
    {
      "cell_type": "code",
      "execution_count": 23,
      "metadata": {
        "colab": {
          "base_uri": "https://localhost:8080/"
        },
        "id": "KccLpCyFLJhW",
        "outputId": "e3038aea-7981-4293-fdbe-1a015cfc1ee0"
      },
      "outputs": [
        {
          "name": "stdout",
          "output_type": "stream",
          "text": [
            "Core Skills Classification Report:\n",
            "                         precision    recall  f1-score   support\n",
            "\n",
            "        API Development       1.00      1.00      1.00       393\n",
            "                    CSS       1.00      1.00      1.00       397\n",
            "    Campaign Management       1.00      1.00      1.00       413\n",
            "        Data Structures       1.00      1.00      1.00       410\n",
            "          Data analysis       1.00      1.00      1.00       387\n",
            "    Database Management       1.00      1.00      1.00       393\n",
            "      Digital Marketing       1.00      1.00      1.00       413\n",
            "                  Excel       1.00      1.00      1.00       387\n",
            "                   HTML       1.00      1.00      1.00       397\n",
            "             JavaScript       1.00      1.00      1.00       397\n",
            "                    OOP       1.00      1.00      1.00       410\n",
            "   Programming (Python)       1.00      1.00      1.00       410\n",
            "                    SEO       1.00      1.00      1.00       413\n",
            "                    SQL       1.00      1.00      1.00       387\n",
            "Server-Side Programming       1.00      1.00      1.00       393\n",
            "\n",
            "              micro avg       1.00      1.00      1.00      6000\n",
            "              macro avg       1.00      1.00      1.00      6000\n",
            "           weighted avg       1.00      1.00      1.00      6000\n",
            "            samples avg       1.00      1.00      1.00      6000\n",
            "\n",
            "Company-Specific Skills Classification Report:\n",
            "                         precision    recall  f1-score   support\n",
            "\n",
            "          AWS analytics       0.61      0.23      0.34       150\n",
            "     Autonomous Driving       0.54      0.75      0.62       143\n",
            "                  Azure       0.49      0.57      0.53       109\n",
            "               BigQuery       0.53      0.21      0.30       136\n",
            " Content Recommendation       0.49      0.61      0.54       109\n",
            "  Electric Vehicle Tech       0.45      0.24      0.32       123\n",
            "                    GCP       0.50      0.80      0.61       131\n",
            " Inventory Optimization       0.47      0.79      0.59       121\n",
            "               Meta Ads       0.49      0.79      0.61       131\n",
            "               Power BI       0.53      0.44      0.48       117\n",
            "         Product Design       0.57      0.70      0.63       129\n",
            "       Retail analytics       0.55      0.22      0.32       140\n",
            "Social Media Algorithms       0.43      0.17      0.24       127\n",
            " Streaming Optimization       0.43      0.31      0.36       102\n",
            "Supply Chain Management       0.47      0.82      0.60       123\n",
            "        iOS Development       0.51      0.38      0.43       109\n",
            "\n",
            "              micro avg       0.50      0.50      0.50      2000\n",
            "              macro avg       0.50      0.50      0.47      2000\n",
            "           weighted avg       0.51      0.50      0.47      2000\n",
            "            samples avg       0.50      0.50      0.50      2000\n",
            "\n"
          ]
        }
      ],
      "source": [
        "import pandas as pd\n",
        "from sklearn.model_selection import train_test_split\n",
        "from sklearn.preprocessing import OneHotEncoder, MultiLabelBinarizer\n",
        "from sklearn.neighbors import KNeighborsClassifier\n",
        "from sklearn.multioutput import MultiOutputClassifier\n",
        "from sklearn.metrics import classification_report\n",
        "\n",
        "# Load the dataset\n",
        "data = pd.read_csv('upskilling_dataset.csv')\n",
        "\n",
        "# Preprocessing\n",
        "# Encode categorical features (Job Title, Company, Industry)\n",
        "categorical_features = ['Job Title', 'Company', 'Industry']\n",
        "encoder = OneHotEncoder(sparse_output=False)\n",
        "categorical_encoded = encoder.fit_transform(data[categorical_features])\n",
        "\n",
        "# Encode target variables (Core Skills, Company-Specific Skills)\n",
        "# Convert skills lists into sets for consistency\n",
        "data['Core Skills'] = data['Core Skills'].str.split(', ').apply(set)\n",
        "data['Company-Specific Skills'] = data['Company-Specific Skills'].str.split(', ').apply(set)\n",
        "\n",
        "mlb_core = MultiLabelBinarizer()\n",
        "mlb_company = MultiLabelBinarizer()\n",
        "\n",
        "y_core = mlb_core.fit_transform(data['Core Skills'])\n",
        "y_company = mlb_company.fit_transform(data['Company-Specific Skills'])\n",
        "\n",
        "# Combine target variables for multi-output classification\n",
        "y = pd.concat([pd.DataFrame(y_core), pd.DataFrame(y_company)], axis=1)\n",
        "\n",
        "# Combine all input features\n",
        "X = pd.DataFrame(categorical_encoded)\n",
        "\n",
        "# Split the data into training and testing sets\n",
        "X_train, X_test, y_train, y_test = train_test_split(X, y, test_size=0.2, random_state=42)\n",
        "\n",
        "# Model Training\n",
        "knn_model = KNeighborsClassifier()\n",
        "multioutput_knn_model = MultiOutputClassifier(knn_model)\n",
        "multioutput_knn_model.fit(X_train, y_train)\n",
        "\n",
        "# Model Evaluation\n",
        "y_pred = multioutput_knn_model.predict(X_test)\n",
        "print(\"Core Skills Classification Report:\")\n",
        "print(classification_report(y_test.iloc[:, :len(mlb_core.classes_)], y_pred[:, :len(mlb_core.classes_)], target_names=mlb_core.classes_))\n",
        "\n",
        "print(\"Company-Specific Skills Classification Report:\")\n",
        "print(classification_report(y_test.iloc[:, len(mlb_core.classes_):], y_pred[:, len(mlb_core.classes_):], target_names=mlb_company.classes_))\n",
        "\n"
      ]
    },
    {
      "cell_type": "code",
      "execution_count": 39,
      "metadata": {},
      "outputs": [
        {
          "name": "stdout",
          "output_type": "stream",
          "text": [
            "Enter the following details for prediction:\n",
            "Predicted Core Skills: ('CSS', 'HTML', 'JavaScript')\n",
            "Predicted Company-Specific Skills: ('GCP',)\n"
          ]
        }
      ],
      "source": [
        "# Prediction using user input\n",
        "def get_user_input():\n",
        "    print(\"Enter the following details for prediction:\")\n",
        "    job_title = input(\"Job Title: \")\n",
        "    company = input(\"Company: \")\n",
        "    industry = input(\"Industry: \")\n",
        "\n",
        "    # Encode user input\n",
        "    user_data = pd.DataFrame([[job_title, company, industry]], columns=categorical_features)\n",
        "    user_encoded = encoder.transform(user_data)\n",
        "    return user_encoded\n",
        "\n",
        "user_input = get_user_input()\n",
        "user_prediction = multioutput_knn_model.predict(user_input)\n",
        "\n",
        "# Decode predictions\n",
        "core_skills_pred = mlb_core.inverse_transform(user_prediction[:, :len(mlb_core.classes_)])\n",
        "company_skills_pred = mlb_company.inverse_transform(user_prediction[:, len(mlb_core.classes_):])\n",
        "\n",
        "print(\"Predicted Core Skills:\", core_skills_pred[0])\n",
        "print(\"Predicted Company-Specific Skills:\", company_skills_pred[0])"
      ]
    },
    {
      "cell_type": "code",
      "execution_count": 26,
      "metadata": {},
      "outputs": [],
      "source": [
        "import gradio as gr"
      ]
    },
    {
      "cell_type": "code",
      "execution_count": 42,
      "metadata": {},
      "outputs": [],
      "source": [
        "def predict(job,com,inds):\n",
        "    user_data = pd.DataFrame([[job, com, inds]], columns=categorical_features)\n",
        "    user_encoded = encoder.transform(user_data)\n",
        "    user_prediction = multioutput_knn_model.predict(user_encoded)\n",
        "    core_skills_pred = mlb_core.inverse_transform(user_prediction[:, :len(mlb_core.classes_)])\n",
        "    company_skills_pred = mlb_company.inverse_transform(user_prediction[:, len(mlb_core.classes_):])\n",
        "    return list(core_skills_pred[0]),list(company_skills_pred[0])\n"
      ]
    },
    {
      "cell_type": "code",
      "execution_count": 43,
      "metadata": {},
      "outputs": [],
      "source": [
        "iface = gr.Interface( \n",
        "                 fn=predict,\n",
        "                 inputs=[gr.Textbox(label=\"Job title\"),gr.Textbox(label=\"Company\"),gr.Textbox(label=\"Industry\")],\n",
        "                 outputs=[gr.CheckboxGroup(label=\"Predicted Core Skills\", choices=list(mlb_core.classes_)), gr.CheckboxGroup(label=\"Predicted Company-Specific Skills\", choices=list(mlb_company.classes_))],\n",
        "                 title=\"Upskilling Skills Prediction\",\n",
        "                 description=\"Enter your job title, company, and industry to predict relevant skills.\" ) # Launch the interface"
      ]
    },
    {
      "cell_type": "code",
      "execution_count": 45,
      "metadata": {},
      "outputs": [
        {
          "name": "stdout",
          "output_type": "stream",
          "text": [
            "* Running on local URL:  http://127.0.0.1:7862\n",
            "\n",
            "To create a public link, set `share=True` in `launch()`.\n"
          ]
        },
        {
          "data": {
            "text/html": [
              "<div><iframe src=\"http://127.0.0.1:7862/\" width=\"100%\" height=\"500\" allow=\"autoplay; camera; microphone; clipboard-read; clipboard-write;\" frameborder=\"0\" allowfullscreen></iframe></div>"
            ],
            "text/plain": [
              "<IPython.core.display.HTML object>"
            ]
          },
          "metadata": {},
          "output_type": "display_data"
        },
        {
          "data": {
            "text/plain": []
          },
          "execution_count": 45,
          "metadata": {},
          "output_type": "execute_result"
        }
      ],
      "source": [
        "iface.launch()"
      ]
    },
    {
      "cell_type": "code",
      "execution_count": 46,
      "metadata": {},
      "outputs": [
        {
          "name": "stdout",
          "output_type": "stream",
          "text": [
            "Closing server running on port: 7862\n"
          ]
        }
      ],
      "source": [
        "iface.close()"
      ]
    },
    {
      "cell_type": "code",
      "execution_count": null,
      "metadata": {},
      "outputs": [],
      "source": []
    },
    {
      "cell_type": "code",
      "execution_count": null,
      "metadata": {},
      "outputs": [],
      "source": []
    }
  ],
  "metadata": {
    "colab": {
      "provenance": []
    },
    "kernelspec": {
      "display_name": "ollama",
      "language": "python",
      "name": "python3"
    },
    "language_info": {
      "codemirror_mode": {
        "name": "ipython",
        "version": 3
      },
      "file_extension": ".py",
      "mimetype": "text/x-python",
      "name": "python",
      "nbconvert_exporter": "python",
      "pygments_lexer": "ipython3",
      "version": "3.12.8"
    }
  },
  "nbformat": 4,
  "nbformat_minor": 0
}
